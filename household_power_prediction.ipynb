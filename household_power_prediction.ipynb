{
  "nbformat": 4,
  "nbformat_minor": 0,
  "metadata": {
    "colab": {
      "name": "Untitled34.ipynb",
      "provenance": []
    },
    "kernelspec": {
      "name": "python3",
      "display_name": "Python 3"
    },
    "language_info": {
      "name": "python"
    }
  },
  "cells": [
    {
      "cell_type": "code",
      "execution_count": 12,
      "metadata": {
        "id": "NWvB7wrjVAgB"
      },
      "outputs": [],
      "source": [
        "import sys \n",
        "import numpy as np # linear algebra\n",
        "from scipy.stats import randint\n",
        "import pandas as pd # data processing, CSV file I/O (e.g. pd.read_csv), data manipulation as in SQL\n",
        "import matplotlib.pyplot as plt # this is used for the plot the graph \n",
        "import seaborn as sns # used for plot interactive graph. \n",
        "from sklearn.model_selection import train_test_split # to split the data into two parts\n",
        "#from sklearn.cross_validation import KFold # use for cross validation\n",
        "from sklearn.model_selection import KFold\n",
        "from sklearn.preprocessing import StandardScaler # for normalization\n",
        "from sklearn.preprocessing import MinMaxScaler\n",
        "from sklearn.pipeline import Pipeline # pipeline making\n",
        "from sklearn.model_selection import cross_val_score\n",
        "from sklearn.feature_selection import SelectFromModel\n",
        "from sklearn import metrics # for the check the error and accuracy of the model\n",
        "from sklearn.metrics import mean_squared_error,r2_score\n",
        "\n",
        "## for Deep-learing:\n",
        "import keras\n",
        "from keras.layers import Dense\n",
        "from keras.models import Sequential\n",
        "from tensorflow.keras.utils import to_categorical\n",
        "from tensorflow.keras.optimizers import SGD\n",
        "from keras.callbacks import EarlyStopping\n",
        "from keras.utils import np_utils\n",
        "import itertools\n",
        "from keras.layers import LSTM\n",
        "from keras.layers.convolutional import Conv1D\n",
        "from keras.layers.convolutional import MaxPooling1D\n",
        "from keras.layers import Dropout\n"
      ]
    },
    {
      "cell_type": "code",
      "source": [
        "df = pd.read_csv('/content/household_power_consumption.txt', sep=';', \n",
        "                 parse_dates={'dt' : ['Date', 'Time']}, infer_datetime_format=True, \n",
        "                 low_memory=False, na_values=['nan','?'], index_col='dt')\n",
        "\n",
        "\n",
        "df.head()\n"
      ],
      "metadata": {
        "colab": {
          "base_uri": "https://localhost:8080/",
          "height": 475
        },
        "id": "AkRBwwG0VB4U",
        "outputId": "296b3e11-7d67-4889-a213-e3e5e9545101"
      },
      "execution_count": 13,
      "outputs": [
        {
          "output_type": "execute_result",
          "data": {
            "text/plain": [
              "                     Global_active_power  Global_reactive_power  Voltage  \\\n",
              "dt                                                                         \n",
              "2006-12-16 17:24:00                4.216                  0.418   234.84   \n",
              "2006-12-16 17:25:00                5.360                  0.436   233.63   \n",
              "2006-12-16 17:26:00                5.374                  0.498   233.29   \n",
              "2006-12-16 17:27:00                5.388                  0.502   233.74   \n",
              "2006-12-16 17:28:00                3.666                  0.528   235.68   \n",
              "\n",
              "                     Global_intensity  Sub_metering_1  Sub_metering_2  \\\n",
              "dt                                                                      \n",
              "2006-12-16 17:24:00              18.4             0.0             1.0   \n",
              "2006-12-16 17:25:00              23.0             0.0             1.0   \n",
              "2006-12-16 17:26:00              23.0             0.0             2.0   \n",
              "2006-12-16 17:27:00              23.0             0.0             1.0   \n",
              "2006-12-16 17:28:00              15.8             0.0             1.0   \n",
              "\n",
              "                     Sub_metering_3  \n",
              "dt                                   \n",
              "2006-12-16 17:24:00            17.0  \n",
              "2006-12-16 17:25:00            16.0  \n",
              "2006-12-16 17:26:00            17.0  \n",
              "2006-12-16 17:27:00            17.0  \n",
              "2006-12-16 17:28:00            17.0  "
            ],
            "text/html": [
              "\n",
              "  <div id=\"df-582ef12b-90f3-4b40-a0e2-617eb075dd45\">\n",
              "    <div class=\"colab-df-container\">\n",
              "      <div>\n",
              "<style scoped>\n",
              "    .dataframe tbody tr th:only-of-type {\n",
              "        vertical-align: middle;\n",
              "    }\n",
              "\n",
              "    .dataframe tbody tr th {\n",
              "        vertical-align: top;\n",
              "    }\n",
              "\n",
              "    .dataframe thead th {\n",
              "        text-align: right;\n",
              "    }\n",
              "</style>\n",
              "<table border=\"1\" class=\"dataframe\">\n",
              "  <thead>\n",
              "    <tr style=\"text-align: right;\">\n",
              "      <th></th>\n",
              "      <th>Global_active_power</th>\n",
              "      <th>Global_reactive_power</th>\n",
              "      <th>Voltage</th>\n",
              "      <th>Global_intensity</th>\n",
              "      <th>Sub_metering_1</th>\n",
              "      <th>Sub_metering_2</th>\n",
              "      <th>Sub_metering_3</th>\n",
              "    </tr>\n",
              "    <tr>\n",
              "      <th>dt</th>\n",
              "      <th></th>\n",
              "      <th></th>\n",
              "      <th></th>\n",
              "      <th></th>\n",
              "      <th></th>\n",
              "      <th></th>\n",
              "      <th></th>\n",
              "    </tr>\n",
              "  </thead>\n",
              "  <tbody>\n",
              "    <tr>\n",
              "      <th>2006-12-16 17:24:00</th>\n",
              "      <td>4.216</td>\n",
              "      <td>0.418</td>\n",
              "      <td>234.84</td>\n",
              "      <td>18.4</td>\n",
              "      <td>0.0</td>\n",
              "      <td>1.0</td>\n",
              "      <td>17.0</td>\n",
              "    </tr>\n",
              "    <tr>\n",
              "      <th>2006-12-16 17:25:00</th>\n",
              "      <td>5.360</td>\n",
              "      <td>0.436</td>\n",
              "      <td>233.63</td>\n",
              "      <td>23.0</td>\n",
              "      <td>0.0</td>\n",
              "      <td>1.0</td>\n",
              "      <td>16.0</td>\n",
              "    </tr>\n",
              "    <tr>\n",
              "      <th>2006-12-16 17:26:00</th>\n",
              "      <td>5.374</td>\n",
              "      <td>0.498</td>\n",
              "      <td>233.29</td>\n",
              "      <td>23.0</td>\n",
              "      <td>0.0</td>\n",
              "      <td>2.0</td>\n",
              "      <td>17.0</td>\n",
              "    </tr>\n",
              "    <tr>\n",
              "      <th>2006-12-16 17:27:00</th>\n",
              "      <td>5.388</td>\n",
              "      <td>0.502</td>\n",
              "      <td>233.74</td>\n",
              "      <td>23.0</td>\n",
              "      <td>0.0</td>\n",
              "      <td>1.0</td>\n",
              "      <td>17.0</td>\n",
              "    </tr>\n",
              "    <tr>\n",
              "      <th>2006-12-16 17:28:00</th>\n",
              "      <td>3.666</td>\n",
              "      <td>0.528</td>\n",
              "      <td>235.68</td>\n",
              "      <td>15.8</td>\n",
              "      <td>0.0</td>\n",
              "      <td>1.0</td>\n",
              "      <td>17.0</td>\n",
              "    </tr>\n",
              "  </tbody>\n",
              "</table>\n",
              "</div>\n",
              "      <button class=\"colab-df-convert\" onclick=\"convertToInteractive('df-582ef12b-90f3-4b40-a0e2-617eb075dd45')\"\n",
              "              title=\"Convert this dataframe to an interactive table.\"\n",
              "              style=\"display:none;\">\n",
              "        \n",
              "  <svg xmlns=\"http://www.w3.org/2000/svg\" height=\"24px\"viewBox=\"0 0 24 24\"\n",
              "       width=\"24px\">\n",
              "    <path d=\"M0 0h24v24H0V0z\" fill=\"none\"/>\n",
              "    <path d=\"M18.56 5.44l.94 2.06.94-2.06 2.06-.94-2.06-.94-.94-2.06-.94 2.06-2.06.94zm-11 1L8.5 8.5l.94-2.06 2.06-.94-2.06-.94L8.5 2.5l-.94 2.06-2.06.94zm10 10l.94 2.06.94-2.06 2.06-.94-2.06-.94-.94-2.06-.94 2.06-2.06.94z\"/><path d=\"M17.41 7.96l-1.37-1.37c-.4-.4-.92-.59-1.43-.59-.52 0-1.04.2-1.43.59L10.3 9.45l-7.72 7.72c-.78.78-.78 2.05 0 2.83L4 21.41c.39.39.9.59 1.41.59.51 0 1.02-.2 1.41-.59l7.78-7.78 2.81-2.81c.8-.78.8-2.07 0-2.86zM5.41 20L4 18.59l7.72-7.72 1.47 1.35L5.41 20z\"/>\n",
              "  </svg>\n",
              "      </button>\n",
              "      \n",
              "  <style>\n",
              "    .colab-df-container {\n",
              "      display:flex;\n",
              "      flex-wrap:wrap;\n",
              "      gap: 12px;\n",
              "    }\n",
              "\n",
              "    .colab-df-convert {\n",
              "      background-color: #E8F0FE;\n",
              "      border: none;\n",
              "      border-radius: 50%;\n",
              "      cursor: pointer;\n",
              "      display: none;\n",
              "      fill: #1967D2;\n",
              "      height: 32px;\n",
              "      padding: 0 0 0 0;\n",
              "      width: 32px;\n",
              "    }\n",
              "\n",
              "    .colab-df-convert:hover {\n",
              "      background-color: #E2EBFA;\n",
              "      box-shadow: 0px 1px 2px rgba(60, 64, 67, 0.3), 0px 1px 3px 1px rgba(60, 64, 67, 0.15);\n",
              "      fill: #174EA6;\n",
              "    }\n",
              "\n",
              "    [theme=dark] .colab-df-convert {\n",
              "      background-color: #3B4455;\n",
              "      fill: #D2E3FC;\n",
              "    }\n",
              "\n",
              "    [theme=dark] .colab-df-convert:hover {\n",
              "      background-color: #434B5C;\n",
              "      box-shadow: 0px 1px 3px 1px rgba(0, 0, 0, 0.15);\n",
              "      filter: drop-shadow(0px 1px 2px rgba(0, 0, 0, 0.3));\n",
              "      fill: #FFFFFF;\n",
              "    }\n",
              "  </style>\n",
              "\n",
              "      <script>\n",
              "        const buttonEl =\n",
              "          document.querySelector('#df-582ef12b-90f3-4b40-a0e2-617eb075dd45 button.colab-df-convert');\n",
              "        buttonEl.style.display =\n",
              "          google.colab.kernel.accessAllowed ? 'block' : 'none';\n",
              "\n",
              "        async function convertToInteractive(key) {\n",
              "          const element = document.querySelector('#df-582ef12b-90f3-4b40-a0e2-617eb075dd45');\n",
              "          const dataTable =\n",
              "            await google.colab.kernel.invokeFunction('convertToInteractive',\n",
              "                                                     [key], {});\n",
              "          if (!dataTable) return;\n",
              "\n",
              "          const docLinkHtml = 'Like what you see? Visit the ' +\n",
              "            '<a target=\"_blank\" href=https://colab.research.google.com/notebooks/data_table.ipynb>data table notebook</a>'\n",
              "            + ' to learn more about interactive tables.';\n",
              "          element.innerHTML = '';\n",
              "          dataTable['output_type'] = 'display_data';\n",
              "          await google.colab.output.renderOutput(dataTable, element);\n",
              "          const docLink = document.createElement('div');\n",
              "          docLink.innerHTML = docLinkHtml;\n",
              "          element.appendChild(docLink);\n",
              "        }\n",
              "      </script>\n",
              "    </div>\n",
              "  </div>\n",
              "  "
            ]
          },
          "metadata": {},
          "execution_count": 13
        }
      ]
    },
    {
      "cell_type": "code",
      "source": [
        "df.info()\n"
      ],
      "metadata": {
        "colab": {
          "base_uri": "https://localhost:8080/"
        },
        "id": "pYiNTAs-Vkn2",
        "outputId": "4d2c5e8c-fd83-4b44-9da5-ab20285e1555"
      },
      "execution_count": 14,
      "outputs": [
        {
          "output_type": "stream",
          "name": "stdout",
          "text": [
            "<class 'pandas.core.frame.DataFrame'>\n",
            "DatetimeIndex: 2075259 entries, 2006-12-16 17:24:00 to 2010-11-26 21:02:00\n",
            "Data columns (total 7 columns):\n",
            " #   Column                 Dtype  \n",
            "---  ------                 -----  \n",
            " 0   Global_active_power    float64\n",
            " 1   Global_reactive_power  float64\n",
            " 2   Voltage                float64\n",
            " 3   Global_intensity       float64\n",
            " 4   Sub_metering_1         float64\n",
            " 5   Sub_metering_2         float64\n",
            " 6   Sub_metering_3         float64\n",
            "dtypes: float64(7)\n",
            "memory usage: 126.7 MB\n"
          ]
        }
      ]
    },
    {
      "cell_type": "code",
      "source": [
        "df.describe()\n"
      ],
      "metadata": {
        "colab": {
          "base_uri": "https://localhost:8080/",
          "height": 364
        },
        "id": "mURnl1e_Vkqc",
        "outputId": "fa04d0cb-3f80-4ef9-8d77-b70fbe8736cd"
      },
      "execution_count": 15,
      "outputs": [
        {
          "output_type": "execute_result",
          "data": {
            "text/plain": [
              "       Global_active_power  Global_reactive_power       Voltage  \\\n",
              "count         2.049280e+06           2.049280e+06  2.049280e+06   \n",
              "mean          1.091615e+00           1.237145e-01  2.408399e+02   \n",
              "std           1.057294e+00           1.127220e-01  3.239987e+00   \n",
              "min           7.600000e-02           0.000000e+00  2.232000e+02   \n",
              "25%           3.080000e-01           4.800000e-02  2.389900e+02   \n",
              "50%           6.020000e-01           1.000000e-01  2.410100e+02   \n",
              "75%           1.528000e+00           1.940000e-01  2.428900e+02   \n",
              "max           1.112200e+01           1.390000e+00  2.541500e+02   \n",
              "\n",
              "       Global_intensity  Sub_metering_1  Sub_metering_2  Sub_metering_3  \n",
              "count      2.049280e+06    2.049280e+06    2.049280e+06    2.049280e+06  \n",
              "mean       4.627759e+00    1.121923e+00    1.298520e+00    6.458447e+00  \n",
              "std        4.444396e+00    6.153031e+00    5.822026e+00    8.437154e+00  \n",
              "min        2.000000e-01    0.000000e+00    0.000000e+00    0.000000e+00  \n",
              "25%        1.400000e+00    0.000000e+00    0.000000e+00    0.000000e+00  \n",
              "50%        2.600000e+00    0.000000e+00    0.000000e+00    1.000000e+00  \n",
              "75%        6.400000e+00    0.000000e+00    1.000000e+00    1.700000e+01  \n",
              "max        4.840000e+01    8.800000e+01    8.000000e+01    3.100000e+01  "
            ],
            "text/html": [
              "\n",
              "  <div id=\"df-06c9cf12-5573-40f3-b043-60d33e4a4da8\">\n",
              "    <div class=\"colab-df-container\">\n",
              "      <div>\n",
              "<style scoped>\n",
              "    .dataframe tbody tr th:only-of-type {\n",
              "        vertical-align: middle;\n",
              "    }\n",
              "\n",
              "    .dataframe tbody tr th {\n",
              "        vertical-align: top;\n",
              "    }\n",
              "\n",
              "    .dataframe thead th {\n",
              "        text-align: right;\n",
              "    }\n",
              "</style>\n",
              "<table border=\"1\" class=\"dataframe\">\n",
              "  <thead>\n",
              "    <tr style=\"text-align: right;\">\n",
              "      <th></th>\n",
              "      <th>Global_active_power</th>\n",
              "      <th>Global_reactive_power</th>\n",
              "      <th>Voltage</th>\n",
              "      <th>Global_intensity</th>\n",
              "      <th>Sub_metering_1</th>\n",
              "      <th>Sub_metering_2</th>\n",
              "      <th>Sub_metering_3</th>\n",
              "    </tr>\n",
              "  </thead>\n",
              "  <tbody>\n",
              "    <tr>\n",
              "      <th>count</th>\n",
              "      <td>2.049280e+06</td>\n",
              "      <td>2.049280e+06</td>\n",
              "      <td>2.049280e+06</td>\n",
              "      <td>2.049280e+06</td>\n",
              "      <td>2.049280e+06</td>\n",
              "      <td>2.049280e+06</td>\n",
              "      <td>2.049280e+06</td>\n",
              "    </tr>\n",
              "    <tr>\n",
              "      <th>mean</th>\n",
              "      <td>1.091615e+00</td>\n",
              "      <td>1.237145e-01</td>\n",
              "      <td>2.408399e+02</td>\n",
              "      <td>4.627759e+00</td>\n",
              "      <td>1.121923e+00</td>\n",
              "      <td>1.298520e+00</td>\n",
              "      <td>6.458447e+00</td>\n",
              "    </tr>\n",
              "    <tr>\n",
              "      <th>std</th>\n",
              "      <td>1.057294e+00</td>\n",
              "      <td>1.127220e-01</td>\n",
              "      <td>3.239987e+00</td>\n",
              "      <td>4.444396e+00</td>\n",
              "      <td>6.153031e+00</td>\n",
              "      <td>5.822026e+00</td>\n",
              "      <td>8.437154e+00</td>\n",
              "    </tr>\n",
              "    <tr>\n",
              "      <th>min</th>\n",
              "      <td>7.600000e-02</td>\n",
              "      <td>0.000000e+00</td>\n",
              "      <td>2.232000e+02</td>\n",
              "      <td>2.000000e-01</td>\n",
              "      <td>0.000000e+00</td>\n",
              "      <td>0.000000e+00</td>\n",
              "      <td>0.000000e+00</td>\n",
              "    </tr>\n",
              "    <tr>\n",
              "      <th>25%</th>\n",
              "      <td>3.080000e-01</td>\n",
              "      <td>4.800000e-02</td>\n",
              "      <td>2.389900e+02</td>\n",
              "      <td>1.400000e+00</td>\n",
              "      <td>0.000000e+00</td>\n",
              "      <td>0.000000e+00</td>\n",
              "      <td>0.000000e+00</td>\n",
              "    </tr>\n",
              "    <tr>\n",
              "      <th>50%</th>\n",
              "      <td>6.020000e-01</td>\n",
              "      <td>1.000000e-01</td>\n",
              "      <td>2.410100e+02</td>\n",
              "      <td>2.600000e+00</td>\n",
              "      <td>0.000000e+00</td>\n",
              "      <td>0.000000e+00</td>\n",
              "      <td>1.000000e+00</td>\n",
              "    </tr>\n",
              "    <tr>\n",
              "      <th>75%</th>\n",
              "      <td>1.528000e+00</td>\n",
              "      <td>1.940000e-01</td>\n",
              "      <td>2.428900e+02</td>\n",
              "      <td>6.400000e+00</td>\n",
              "      <td>0.000000e+00</td>\n",
              "      <td>1.000000e+00</td>\n",
              "      <td>1.700000e+01</td>\n",
              "    </tr>\n",
              "    <tr>\n",
              "      <th>max</th>\n",
              "      <td>1.112200e+01</td>\n",
              "      <td>1.390000e+00</td>\n",
              "      <td>2.541500e+02</td>\n",
              "      <td>4.840000e+01</td>\n",
              "      <td>8.800000e+01</td>\n",
              "      <td>8.000000e+01</td>\n",
              "      <td>3.100000e+01</td>\n",
              "    </tr>\n",
              "  </tbody>\n",
              "</table>\n",
              "</div>\n",
              "      <button class=\"colab-df-convert\" onclick=\"convertToInteractive('df-06c9cf12-5573-40f3-b043-60d33e4a4da8')\"\n",
              "              title=\"Convert this dataframe to an interactive table.\"\n",
              "              style=\"display:none;\">\n",
              "        \n",
              "  <svg xmlns=\"http://www.w3.org/2000/svg\" height=\"24px\"viewBox=\"0 0 24 24\"\n",
              "       width=\"24px\">\n",
              "    <path d=\"M0 0h24v24H0V0z\" fill=\"none\"/>\n",
              "    <path d=\"M18.56 5.44l.94 2.06.94-2.06 2.06-.94-2.06-.94-.94-2.06-.94 2.06-2.06.94zm-11 1L8.5 8.5l.94-2.06 2.06-.94-2.06-.94L8.5 2.5l-.94 2.06-2.06.94zm10 10l.94 2.06.94-2.06 2.06-.94-2.06-.94-.94-2.06-.94 2.06-2.06.94z\"/><path d=\"M17.41 7.96l-1.37-1.37c-.4-.4-.92-.59-1.43-.59-.52 0-1.04.2-1.43.59L10.3 9.45l-7.72 7.72c-.78.78-.78 2.05 0 2.83L4 21.41c.39.39.9.59 1.41.59.51 0 1.02-.2 1.41-.59l7.78-7.78 2.81-2.81c.8-.78.8-2.07 0-2.86zM5.41 20L4 18.59l7.72-7.72 1.47 1.35L5.41 20z\"/>\n",
              "  </svg>\n",
              "      </button>\n",
              "      \n",
              "  <style>\n",
              "    .colab-df-container {\n",
              "      display:flex;\n",
              "      flex-wrap:wrap;\n",
              "      gap: 12px;\n",
              "    }\n",
              "\n",
              "    .colab-df-convert {\n",
              "      background-color: #E8F0FE;\n",
              "      border: none;\n",
              "      border-radius: 50%;\n",
              "      cursor: pointer;\n",
              "      display: none;\n",
              "      fill: #1967D2;\n",
              "      height: 32px;\n",
              "      padding: 0 0 0 0;\n",
              "      width: 32px;\n",
              "    }\n",
              "\n",
              "    .colab-df-convert:hover {\n",
              "      background-color: #E2EBFA;\n",
              "      box-shadow: 0px 1px 2px rgba(60, 64, 67, 0.3), 0px 1px 3px 1px rgba(60, 64, 67, 0.15);\n",
              "      fill: #174EA6;\n",
              "    }\n",
              "\n",
              "    [theme=dark] .colab-df-convert {\n",
              "      background-color: #3B4455;\n",
              "      fill: #D2E3FC;\n",
              "    }\n",
              "\n",
              "    [theme=dark] .colab-df-convert:hover {\n",
              "      background-color: #434B5C;\n",
              "      box-shadow: 0px 1px 3px 1px rgba(0, 0, 0, 0.15);\n",
              "      filter: drop-shadow(0px 1px 2px rgba(0, 0, 0, 0.3));\n",
              "      fill: #FFFFFF;\n",
              "    }\n",
              "  </style>\n",
              "\n",
              "      <script>\n",
              "        const buttonEl =\n",
              "          document.querySelector('#df-06c9cf12-5573-40f3-b043-60d33e4a4da8 button.colab-df-convert');\n",
              "        buttonEl.style.display =\n",
              "          google.colab.kernel.accessAllowed ? 'block' : 'none';\n",
              "\n",
              "        async function convertToInteractive(key) {\n",
              "          const element = document.querySelector('#df-06c9cf12-5573-40f3-b043-60d33e4a4da8');\n",
              "          const dataTable =\n",
              "            await google.colab.kernel.invokeFunction('convertToInteractive',\n",
              "                                                     [key], {});\n",
              "          if (!dataTable) return;\n",
              "\n",
              "          const docLinkHtml = 'Like what you see? Visit the ' +\n",
              "            '<a target=\"_blank\" href=https://colab.research.google.com/notebooks/data_table.ipynb>data table notebook</a>'\n",
              "            + ' to learn more about interactive tables.';\n",
              "          element.innerHTML = '';\n",
              "          dataTable['output_type'] = 'display_data';\n",
              "          await google.colab.output.renderOutput(dataTable, element);\n",
              "          const docLink = document.createElement('div');\n",
              "          docLink.innerHTML = docLinkHtml;\n",
              "          element.appendChild(docLink);\n",
              "        }\n",
              "      </script>\n",
              "    </div>\n",
              "  </div>\n",
              "  "
            ]
          },
          "metadata": {},
          "execution_count": 15
        }
      ]
    },
    {
      "cell_type": "code",
      "source": [
        "df.shape\n"
      ],
      "metadata": {
        "colab": {
          "base_uri": "https://localhost:8080/"
        },
        "id": "UIWqa3nAVkul",
        "outputId": "1cbd3e66-42a2-4976-ae2e-d9c49c8c4492"
      },
      "execution_count": 16,
      "outputs": [
        {
          "output_type": "execute_result",
          "data": {
            "text/plain": [
              "(2075259, 7)"
            ]
          },
          "metadata": {},
          "execution_count": 16
        }
      ]
    },
    {
      "cell_type": "code",
      "source": [
        "for j in range(1,7):\n",
        "       print(df.iloc[:, j].unique())\n",
        "       \n",
        "## finding all columns that have nan:\n",
        "\n",
        "droping_list_all=[]\n",
        "for j in range(0,7):\n",
        "    if not df.iloc[:, j].notnull().all():\n",
        "        droping_list_all.append(j)        \n",
        "        #print(df.iloc[:,j].unique())\n",
        "droping_list_all   \n"
      ],
      "metadata": {
        "colab": {
          "base_uri": "https://localhost:8080/"
        },
        "id": "fgHy599sVk0k",
        "outputId": "150526bf-ef04-40da-8421-7b3d543d860b"
      },
      "execution_count": 17,
      "outputs": [
        {
          "output_type": "stream",
          "name": "stdout",
          "text": [
            "[0.418 0.436 0.498 0.502 0.528 0.522 0.52  0.51  0.47  0.478 0.398 0.422\n",
            " 0.282 0.152 0.156 0.    0.076 0.09  0.2   0.058 0.18  0.144 0.118 0.108\n",
            " 0.202 0.192 0.186 0.116 0.136 0.148 0.16  0.158 0.1   0.082 0.05  0.052\n",
            " 0.162 0.086 0.048 0.054 0.068 0.166 0.174 0.178 0.188 0.088 0.08  0.07\n",
            " 0.084 0.074 0.106 0.092 0.064 0.046 0.138 0.134 0.132 0.12  0.13  0.154\n",
            " 0.078 0.142 0.14  0.146 0.15  0.17  0.102 0.072 0.06  0.056 0.062 0.112\n",
            " 0.066 0.172 0.168 0.194 0.184 0.096 0.164 0.182 0.094 0.098 0.176 0.19\n",
            " 0.204 0.22  0.198 0.208 0.244 0.334 0.298 0.296 0.286 0.278 0.104 0.258\n",
            " 0.238 0.256 0.214 0.23  0.21  0.24  0.124 0.122 0.27  0.302 0.272 0.25\n",
            " 0.294 0.3   0.128 0.126 0.234 0.242 0.316 0.28  0.288 0.224 0.11  0.248\n",
            " 0.254 0.222 0.246 0.216 0.212 0.114 0.206 0.228 0.226 0.196 0.218 0.368\n",
            " 0.338 0.31  0.304 0.292 0.268 0.266 0.26  0.396 0.38  0.4   0.384 0.416\n",
            " 0.404 0.382 0.232 0.314 0.312 0.262 0.252 0.236 0.348 0.342 0.34  0.35\n",
            " 0.504 0.344 0.346 0.366 0.574 0.582 0.37  0.364 0.36  0.362 0.372 0.392\n",
            " 0.354 0.356 0.358 0.402 0.394 0.39  0.386 0.274 0.264 0.324 0.352 0.276\n",
            " 0.306 0.376 0.562 0.44  0.378 0.426 0.45  0.374 0.388 0.284 0.29  0.308\n",
            " 0.318 0.32  0.322 0.326 0.336 0.414 0.408 0.472 0.464 0.462 0.578 0.576\n",
            " 0.58  0.474 0.514 0.646 0.636 0.598 0.586 0.566 0.406 0.43  0.412 0.442\n",
            " 0.452 0.432 0.33  0.328 0.538 0.564 0.552 0.556 0.606 0.424 0.492 0.526\n",
            " 0.512 0.482 0.446 0.332   nan 0.548 0.534 0.532 0.688 0.664 0.66  0.53\n",
            " 0.516 0.572 0.54  0.614 0.568 0.444 0.456 0.448 0.48  0.434 0.438 0.494\n",
            " 0.496 0.468 0.56  0.622 0.57  0.618 0.624 0.466 0.42  0.5   0.602 0.632\n",
            " 0.724 0.706 0.484 0.458 0.428 0.486 0.698 0.708 0.686 0.666 0.658 0.49\n",
            " 0.454 0.64  0.59  0.524 0.634 0.476 0.694 0.7   0.794 0.592 0.46  0.656\n",
            " 0.644 0.488 0.41  0.55  0.616 0.8   0.79  0.788 0.67  0.506 0.6   0.68\n",
            " 0.678 0.682 0.69  0.508 0.604 0.608 0.554 0.518 0.65  0.648 0.642 0.654\n",
            " 0.754 0.75  0.742 0.594 0.536 0.544 0.63  0.542 0.672 0.588 0.596 0.584\n",
            " 0.674 0.726 0.768 0.774 0.712 0.856 0.862 0.848 0.73  0.71  0.662 0.722\n",
            " 0.704 0.546 0.638 0.628 0.62  0.716 0.778 0.702 0.676 0.834 0.802 0.772\n",
            " 0.558 0.626 0.652 0.76  0.78  0.784 0.786 0.792 0.782 0.832 0.842 0.744\n",
            " 0.822 0.612 0.692 0.684 0.874 0.804 0.696 0.61  0.718 0.732 0.72  0.748\n",
            " 0.796 0.736 0.82  0.808 0.756 0.776 0.806 0.764 0.818 0.77  0.758 0.858\n",
            " 0.86  0.85  0.752 0.714 0.84  0.83  0.838 0.738 0.828 0.74  0.746 0.988\n",
            " 0.966 0.96  0.956 0.854 0.912 0.734 0.728 0.826 0.88  0.878 0.876 0.93\n",
            " 0.986 0.972 0.946 0.902 1.046 1.148 1.054 0.89  0.668 1.092 0.996 0.974\n",
            " 1.04  1.06  1.028 0.908 0.898 0.95  0.964 0.94  0.928 0.896 0.868 0.87\n",
            " 0.866 0.864 0.872 0.812 0.836 0.824 0.814 0.762 0.994 1.032 0.816 0.944\n",
            " 0.968 0.916 1.014 1.008 1.002 0.81  1.    1.006 1.012 1.034 0.852 0.924\n",
            " 0.942 0.982 0.906 0.932 0.914 0.846 0.844 1.222 1.19  1.18  1.118 1.082\n",
            " 1.08  0.91  1.102 1.274 1.364 1.39  0.918 1.198 1.192 0.936 0.954 0.98\n",
            " 0.99  0.904 0.798 0.766 1.09  1.016 0.922 1.036 0.892 0.894 0.9   0.886\n",
            " 1.096 0.92  0.962 0.958 0.998 1.044 1.048 0.938 0.934 1.13  1.218 0.888\n",
            " 0.882 1.156 1.024 1.088 1.084 1.076 1.066 1.07  1.24  0.926 0.952 0.884\n",
            " 1.186 1.108 1.03  1.02  0.978 0.97  0.948 1.064 1.078 1.074 1.124 1.018\n",
            " 0.976 1.038 1.094 1.1   1.026]\n",
            "[234.84 233.63 233.29 ... 251.63 253.08 253.16]\n",
            "[18.4 23.  15.8 15.  19.6 23.2 22.4 22.6 17.6 14.2 13.8 14.4 16.4 25.4\n",
            " 33.2 30.6 22.  19.4 13.6 13.4 11.6 19.2 10.4 11.8 11.  21.  26.2 29.\n",
            " 27.8 27.  19.   9.6 10.  21.4 17.8 12.  12.4 15.2 20.8 15.6 26.4 18.8\n",
            " 13.   9.8  9.2 13.2 18.  10.8 10.6 18.2 17.  17.4 14.8 14.6 15.4 14.\n",
            "  8.4  9.4  7.8  8.2  8.6 11.4 12.6  9.   7.6 12.8  7.4  5.6  4.6  7.2\n",
            "  1.6  2.4  2.8  1.2  4.4  4.  10.2  6.8  5.2  6.   6.6  8.   2.   4.8\n",
            "  5.4 16.6  3.   1.8  8.8  1.4 21.8 20.2 16.  18.6 16.8 11.2  2.6 16.2\n",
            "  4.2  7.   3.8  3.2  5.   3.6  0.8  5.8  1.   6.4  6.2  3.4  2.2 12.2\n",
            " 30.  29.4 28.2 25.8 20.  24.8 24.6 25.2 25.  23.4 23.8 20.6 21.6 19.8\n",
            " 20.4 26.6 17.2 21.2 23.6 29.2 33.6 28.  30.2 33.4 24.2 24.  22.2 24.4\n",
            " 22.8  nan 30.4 34.2 32.8 33.  32.6 31.6 28.6 25.6 31.  28.4 27.2 29.8\n",
            " 29.6 37.  36.8 32.4 27.4 35.  34.8 32.2 26.  35.2 36.2 27.6 26.8 34.4\n",
            " 31.4 30.8 31.2 39.  39.2 39.4 28.8 38.8 35.6 32.  33.8 36.  37.2 34.\n",
            " 31.8 36.6 40.4 37.4 38.2 36.4 35.4 34.6 35.8 38.  40.2 41.  41.4 41.2\n",
            " 41.8 38.6 44.4 46.4 43.2 39.8 40.8  0.6  0.4 37.8 40.6 38.4 42.  42.2\n",
            " 39.6 42.6 44.2 37.6 40.   0.2 44.6 43.4 43.  45.8 48.4 42.8]\n",
            "[ 0.  1.  2.  6. 37. 36. 38. 25. 12. 11.  9.  4. 33.  5. 34.  8. 26. 27.\n",
            " 15. 20. 21. 23. 16. 10. 39. 32. nan 19. 35. 30. 40.  7. 31. 17.  3. 29.\n",
            " 24. 14. 41. 53. 76. 75. 77. 74. 28. 68. 58. 62. 13. 18. 22. 64. 71. 56.\n",
            " 72. 45. 42. 59. 66. 43. 44. 48. 46. 73. 55. 60. 70. 63. 67. 47. 65. 51.\n",
            " 50. 69. 78. 57. 49. 61. 52. 54. 79. 80. 81. 82. 83. 84. 88. 86. 87.]\n",
            "[ 1.  2.  0. 16. 37. 36. 22. 12. 27. 20.  9.  4.  3.  5. 13. 35. 28. 26.\n",
            " 24. 21. 17. 33. 25. 23. 18. 30. 31.  7. 38. 29. 50. 71. 59. 62. 70. 40.\n",
            " 34.  8. 15.  6. 32. 19. 14. 49. 72. 73. 61. 39. 42. 10. 56. 11. nan 43.\n",
            " 67. 63. 53. 65. 52. 69. 48. 74. 41. 47. 58. 68. 64. 75. 46. 57. 60. 66.\n",
            " 44. 78. 77. 76. 51. 55. 45. 54. 79. 80.]\n",
            "[17. 16. 18.  9.  0.  5. 19. 10. 20.  8.  4.  2.  3. 11. 13.  6. 15. nan\n",
            " 12.  1. 14.  7. 23. 25. 26. 28. 27. 21. 22. 29. 24. 30. 31.]\n"
          ]
        },
        {
          "output_type": "execute_result",
          "data": {
            "text/plain": [
              "[0, 1, 2, 3, 4, 5, 6]"
            ]
          },
          "metadata": {},
          "execution_count": 17
        }
      ]
    },
    {
      "cell_type": "code",
      "source": [
        "# filling nan with mean in any columns\n",
        "\n",
        "for j in range(0,7):        \n",
        "        df.iloc[:,j]=df.iloc[:,j].fillna(df.iloc[:,j].mean())\n"
      ],
      "metadata": {
        "id": "8OkzkoS1Vk3r"
      },
      "execution_count": 18,
      "outputs": []
    },
    {
      "cell_type": "code",
      "source": [
        "df.isnull().sum()\n"
      ],
      "metadata": {
        "colab": {
          "base_uri": "https://localhost:8080/"
        },
        "id": "jHE3dhrwVk8D",
        "outputId": "5d1e3aea-61cb-48e8-9f79-4096462834af"
      },
      "execution_count": 19,
      "outputs": [
        {
          "output_type": "execute_result",
          "data": {
            "text/plain": [
              "Global_active_power      0\n",
              "Global_reactive_power    0\n",
              "Voltage                  0\n",
              "Global_intensity         0\n",
              "Sub_metering_1           0\n",
              "Sub_metering_2           0\n",
              "Sub_metering_3           0\n",
              "dtype: int64"
            ]
          },
          "metadata": {},
          "execution_count": 19
        }
      ]
    },
    {
      "cell_type": "code",
      "source": [
        "df.describe()\n"
      ],
      "metadata": {
        "colab": {
          "base_uri": "https://localhost:8080/",
          "height": 364
        },
        "id": "iGZkF7QFVlAC",
        "outputId": "dd4ef1a5-b50c-43e2-ae97-f790076d8f34"
      },
      "execution_count": 20,
      "outputs": [
        {
          "output_type": "execute_result",
          "data": {
            "text/plain": [
              "       Global_active_power  Global_reactive_power       Voltage  \\\n",
              "count         2.075259e+06           2.075259e+06  2.075259e+06   \n",
              "mean          1.091615e+00           1.237145e-01  2.408399e+02   \n",
              "std           1.050655e+00           1.120142e-01  3.219643e+00   \n",
              "min           7.600000e-02           0.000000e+00  2.232000e+02   \n",
              "25%           3.100000e-01           4.800000e-02  2.390200e+02   \n",
              "50%           6.300000e-01           1.020000e-01  2.409600e+02   \n",
              "75%           1.520000e+00           1.920000e-01  2.428600e+02   \n",
              "max           1.112200e+01           1.390000e+00  2.541500e+02   \n",
              "\n",
              "       Global_intensity  Sub_metering_1  Sub_metering_2  Sub_metering_3  \n",
              "count      2.075259e+06    2.075259e+06    2.075259e+06    2.075259e+06  \n",
              "mean       4.627759e+00    1.121923e+00    1.298520e+00    6.458447e+00  \n",
              "std        4.416490e+00    6.114397e+00    5.785470e+00    8.384178e+00  \n",
              "min        2.000000e-01    0.000000e+00    0.000000e+00    0.000000e+00  \n",
              "25%        1.400000e+00    0.000000e+00    0.000000e+00    0.000000e+00  \n",
              "50%        2.800000e+00    0.000000e+00    0.000000e+00    1.000000e+00  \n",
              "75%        6.400000e+00    0.000000e+00    1.000000e+00    1.700000e+01  \n",
              "max        4.840000e+01    8.800000e+01    8.000000e+01    3.100000e+01  "
            ],
            "text/html": [
              "\n",
              "  <div id=\"df-69f5fccc-8e9f-4904-b841-e5408bfe2001\">\n",
              "    <div class=\"colab-df-container\">\n",
              "      <div>\n",
              "<style scoped>\n",
              "    .dataframe tbody tr th:only-of-type {\n",
              "        vertical-align: middle;\n",
              "    }\n",
              "\n",
              "    .dataframe tbody tr th {\n",
              "        vertical-align: top;\n",
              "    }\n",
              "\n",
              "    .dataframe thead th {\n",
              "        text-align: right;\n",
              "    }\n",
              "</style>\n",
              "<table border=\"1\" class=\"dataframe\">\n",
              "  <thead>\n",
              "    <tr style=\"text-align: right;\">\n",
              "      <th></th>\n",
              "      <th>Global_active_power</th>\n",
              "      <th>Global_reactive_power</th>\n",
              "      <th>Voltage</th>\n",
              "      <th>Global_intensity</th>\n",
              "      <th>Sub_metering_1</th>\n",
              "      <th>Sub_metering_2</th>\n",
              "      <th>Sub_metering_3</th>\n",
              "    </tr>\n",
              "  </thead>\n",
              "  <tbody>\n",
              "    <tr>\n",
              "      <th>count</th>\n",
              "      <td>2.075259e+06</td>\n",
              "      <td>2.075259e+06</td>\n",
              "      <td>2.075259e+06</td>\n",
              "      <td>2.075259e+06</td>\n",
              "      <td>2.075259e+06</td>\n",
              "      <td>2.075259e+06</td>\n",
              "      <td>2.075259e+06</td>\n",
              "    </tr>\n",
              "    <tr>\n",
              "      <th>mean</th>\n",
              "      <td>1.091615e+00</td>\n",
              "      <td>1.237145e-01</td>\n",
              "      <td>2.408399e+02</td>\n",
              "      <td>4.627759e+00</td>\n",
              "      <td>1.121923e+00</td>\n",
              "      <td>1.298520e+00</td>\n",
              "      <td>6.458447e+00</td>\n",
              "    </tr>\n",
              "    <tr>\n",
              "      <th>std</th>\n",
              "      <td>1.050655e+00</td>\n",
              "      <td>1.120142e-01</td>\n",
              "      <td>3.219643e+00</td>\n",
              "      <td>4.416490e+00</td>\n",
              "      <td>6.114397e+00</td>\n",
              "      <td>5.785470e+00</td>\n",
              "      <td>8.384178e+00</td>\n",
              "    </tr>\n",
              "    <tr>\n",
              "      <th>min</th>\n",
              "      <td>7.600000e-02</td>\n",
              "      <td>0.000000e+00</td>\n",
              "      <td>2.232000e+02</td>\n",
              "      <td>2.000000e-01</td>\n",
              "      <td>0.000000e+00</td>\n",
              "      <td>0.000000e+00</td>\n",
              "      <td>0.000000e+00</td>\n",
              "    </tr>\n",
              "    <tr>\n",
              "      <th>25%</th>\n",
              "      <td>3.100000e-01</td>\n",
              "      <td>4.800000e-02</td>\n",
              "      <td>2.390200e+02</td>\n",
              "      <td>1.400000e+00</td>\n",
              "      <td>0.000000e+00</td>\n",
              "      <td>0.000000e+00</td>\n",
              "      <td>0.000000e+00</td>\n",
              "    </tr>\n",
              "    <tr>\n",
              "      <th>50%</th>\n",
              "      <td>6.300000e-01</td>\n",
              "      <td>1.020000e-01</td>\n",
              "      <td>2.409600e+02</td>\n",
              "      <td>2.800000e+00</td>\n",
              "      <td>0.000000e+00</td>\n",
              "      <td>0.000000e+00</td>\n",
              "      <td>1.000000e+00</td>\n",
              "    </tr>\n",
              "    <tr>\n",
              "      <th>75%</th>\n",
              "      <td>1.520000e+00</td>\n",
              "      <td>1.920000e-01</td>\n",
              "      <td>2.428600e+02</td>\n",
              "      <td>6.400000e+00</td>\n",
              "      <td>0.000000e+00</td>\n",
              "      <td>1.000000e+00</td>\n",
              "      <td>1.700000e+01</td>\n",
              "    </tr>\n",
              "    <tr>\n",
              "      <th>max</th>\n",
              "      <td>1.112200e+01</td>\n",
              "      <td>1.390000e+00</td>\n",
              "      <td>2.541500e+02</td>\n",
              "      <td>4.840000e+01</td>\n",
              "      <td>8.800000e+01</td>\n",
              "      <td>8.000000e+01</td>\n",
              "      <td>3.100000e+01</td>\n",
              "    </tr>\n",
              "  </tbody>\n",
              "</table>\n",
              "</div>\n",
              "      <button class=\"colab-df-convert\" onclick=\"convertToInteractive('df-69f5fccc-8e9f-4904-b841-e5408bfe2001')\"\n",
              "              title=\"Convert this dataframe to an interactive table.\"\n",
              "              style=\"display:none;\">\n",
              "        \n",
              "  <svg xmlns=\"http://www.w3.org/2000/svg\" height=\"24px\"viewBox=\"0 0 24 24\"\n",
              "       width=\"24px\">\n",
              "    <path d=\"M0 0h24v24H0V0z\" fill=\"none\"/>\n",
              "    <path d=\"M18.56 5.44l.94 2.06.94-2.06 2.06-.94-2.06-.94-.94-2.06-.94 2.06-2.06.94zm-11 1L8.5 8.5l.94-2.06 2.06-.94-2.06-.94L8.5 2.5l-.94 2.06-2.06.94zm10 10l.94 2.06.94-2.06 2.06-.94-2.06-.94-.94-2.06-.94 2.06-2.06.94z\"/><path d=\"M17.41 7.96l-1.37-1.37c-.4-.4-.92-.59-1.43-.59-.52 0-1.04.2-1.43.59L10.3 9.45l-7.72 7.72c-.78.78-.78 2.05 0 2.83L4 21.41c.39.39.9.59 1.41.59.51 0 1.02-.2 1.41-.59l7.78-7.78 2.81-2.81c.8-.78.8-2.07 0-2.86zM5.41 20L4 18.59l7.72-7.72 1.47 1.35L5.41 20z\"/>\n",
              "  </svg>\n",
              "      </button>\n",
              "      \n",
              "  <style>\n",
              "    .colab-df-container {\n",
              "      display:flex;\n",
              "      flex-wrap:wrap;\n",
              "      gap: 12px;\n",
              "    }\n",
              "\n",
              "    .colab-df-convert {\n",
              "      background-color: #E8F0FE;\n",
              "      border: none;\n",
              "      border-radius: 50%;\n",
              "      cursor: pointer;\n",
              "      display: none;\n",
              "      fill: #1967D2;\n",
              "      height: 32px;\n",
              "      padding: 0 0 0 0;\n",
              "      width: 32px;\n",
              "    }\n",
              "\n",
              "    .colab-df-convert:hover {\n",
              "      background-color: #E2EBFA;\n",
              "      box-shadow: 0px 1px 2px rgba(60, 64, 67, 0.3), 0px 1px 3px 1px rgba(60, 64, 67, 0.15);\n",
              "      fill: #174EA6;\n",
              "    }\n",
              "\n",
              "    [theme=dark] .colab-df-convert {\n",
              "      background-color: #3B4455;\n",
              "      fill: #D2E3FC;\n",
              "    }\n",
              "\n",
              "    [theme=dark] .colab-df-convert:hover {\n",
              "      background-color: #434B5C;\n",
              "      box-shadow: 0px 1px 3px 1px rgba(0, 0, 0, 0.15);\n",
              "      filter: drop-shadow(0px 1px 2px rgba(0, 0, 0, 0.3));\n",
              "      fill: #FFFFFF;\n",
              "    }\n",
              "  </style>\n",
              "\n",
              "      <script>\n",
              "        const buttonEl =\n",
              "          document.querySelector('#df-69f5fccc-8e9f-4904-b841-e5408bfe2001 button.colab-df-convert');\n",
              "        buttonEl.style.display =\n",
              "          google.colab.kernel.accessAllowed ? 'block' : 'none';\n",
              "\n",
              "        async function convertToInteractive(key) {\n",
              "          const element = document.querySelector('#df-69f5fccc-8e9f-4904-b841-e5408bfe2001');\n",
              "          const dataTable =\n",
              "            await google.colab.kernel.invokeFunction('convertToInteractive',\n",
              "                                                     [key], {});\n",
              "          if (!dataTable) return;\n",
              "\n",
              "          const docLinkHtml = 'Like what you see? Visit the ' +\n",
              "            '<a target=\"_blank\" href=https://colab.research.google.com/notebooks/data_table.ipynb>data table notebook</a>'\n",
              "            + ' to learn more about interactive tables.';\n",
              "          element.innerHTML = '';\n",
              "          dataTable['output_type'] = 'display_data';\n",
              "          await google.colab.output.renderOutput(dataTable, element);\n",
              "          const docLink = document.createElement('div');\n",
              "          docLink.innerHTML = docLinkHtml;\n",
              "          element.appendChild(docLink);\n",
              "        }\n",
              "      </script>\n",
              "    </div>\n",
              "  </div>\n",
              "  "
            ]
          },
          "metadata": {},
          "execution_count": 20
        }
      ]
    },
    {
      "cell_type": "code",
      "source": [
        "df['Global_active_power'].resample('M').sum()\n"
      ],
      "metadata": {
        "colab": {
          "base_uri": "https://localhost:8080/"
        },
        "id": "fpMGFdtnVlGZ",
        "outputId": "d83b7727-0714-44a3-b93b-adabcc529422"
      },
      "execution_count": 21,
      "outputs": [
        {
          "output_type": "execute_result",
          "data": {
            "text/plain": [
              "dt\n",
              "2006-12-31    41817.648460\n",
              "2007-01-31    69014.045230\n",
              "2007-02-28    56491.069230\n",
              "2007-03-31    58863.283615\n",
              "2007-04-30    39245.548781\n",
              "2007-05-31    44008.872000\n",
              "2007-06-30    35729.767447\n",
              "2007-07-31    29846.831570\n",
              "2007-08-31    34120.475531\n",
              "2007-09-30    41874.789230\n",
              "2007-10-31    49278.553230\n",
              "2007-11-30    55920.827230\n",
              "2007-12-31    72605.261615\n",
              "2008-01-31    65170.473615\n",
              "2008-02-29    49334.346845\n",
              "2008-03-31    55591.685615\n",
              "2008-04-30    48209.992000\n",
              "2008-05-31    45724.043230\n",
              "2008-06-30    42945.063615\n",
              "2008-07-31    35479.601230\n",
              "2008-08-31    12344.063230\n",
              "2008-09-30    42667.792000\n",
              "2008-10-31    50743.399447\n",
              "2008-11-30    59918.584535\n",
              "2008-12-31    56911.416668\n",
              "2009-01-31    62951.099615\n",
              "2009-02-28    50291.953362\n",
              "2009-03-31    54761.169230\n",
              "2009-04-30    49277.707230\n",
              "2009-05-31    45214.196460\n",
              "2009-06-30    37149.767696\n",
              "2009-07-31    27594.810460\n",
              "2009-08-31    30049.032998\n",
              "2009-09-30    42631.838845\n",
              "2009-10-31    51089.811615\n",
              "2009-11-30    55068.733615\n",
              "2009-12-31    60907.189230\n",
              "2010-01-31    62797.504679\n",
              "2010-02-28    55473.889230\n",
              "2010-03-31    50368.601679\n",
              "2010-04-30    44379.215615\n",
              "2010-05-31    48893.491615\n",
              "2010-06-30    41887.607230\n",
              "2010-07-31    32188.843615\n",
              "2010-08-31    29991.384254\n",
              "2010-09-30    42026.211946\n",
              "2010-10-31    51934.045615\n",
              "2010-11-30    44598.388000\n",
              "Freq: M, Name: Global_active_power, dtype: float64"
            ]
          },
          "metadata": {},
          "execution_count": 21
        }
      ]
    },
    {
      "cell_type": "code",
      "source": [
        "df.Global_active_power.resample('D').sum().plot(title='Global_active_power resampled over day for sum') \n",
        "plt.tight_layout()\n",
        "plt.show()   \n"
      ],
      "metadata": {
        "colab": {
          "base_uri": "https://localhost:8080/",
          "height": 297
        },
        "id": "BrZxbDl2WNLh",
        "outputId": "a491d80f-5cd1-47be-ea55-d999c44cc273"
      },
      "execution_count": 22,
      "outputs": [
        {
          "output_type": "display_data",
          "data": {
            "text/plain": [
              "<Figure size 432x288 with 1 Axes>"
            ],
            "image/png": "[encoded data removed]"
          },
          "metadata": {
            "needs_background": "light"
          }
        }
      ]
    },
    {
      "cell_type": "code",
      "source": [
        "\n",
        "df.Global_active_power.resample('D').mean().plot(title='Global_active_power resampled over day for mean', color='red') \n",
        "plt.tight_layout()\n",
        "plt.show()"
      ],
      "metadata": {
        "colab": {
          "base_uri": "https://localhost:8080/",
          "height": 297
        },
        "id": "hBxe3uwVWNRo",
        "outputId": "7b7a0c09-448d-4efe-f267-6776009139d4"
      },
      "execution_count": 23,
      "outputs": [
        {
          "output_type": "display_data",
          "data": {
            "text/plain": [
              "<Figure size 432x288 with 1 Axes>"
            ],
            "image/png": "[encoded data removed]"
          },
          "metadata": {
            "needs_background": "light"
          }
        }
      ]
    },
    {
      "cell_type": "code",
      "source": [
        "df.Global_active_power.resample('D').mean().plot(title='Global_active_power resampled over day', color='red') \n",
        "plt.tight_layout()\n",
        "plt.show()   \n"
      ],
      "metadata": {
        "colab": {
          "base_uri": "https://localhost:8080/",
          "height": 297
        },
        "id": "i80eSoT1WNNt",
        "outputId": "003ab2a0-e8bf-4475-af7a-0b1d9a2904fc"
      },
      "execution_count": 24,
      "outputs": [
        {
          "output_type": "display_data",
          "data": {
            "text/plain": [
              "<Figure size 432x288 with 1 Axes>"
            ],
            "image/png": "[encoded data removed]"
          },
          "metadata": {
            "needs_background": "light"
          }
        }
      ]
    },
    {
      "cell_type": "code",
      "source": [
        "r = df.Global_intensity.resample('D').agg(['mean', 'std'])\n",
        "r.plot(subplots = True, title='Global_intensity resampled over day')\n",
        "plt.show()"
      ],
      "metadata": {
        "colab": {
          "base_uri": "https://localhost:8080/",
          "height": 320
        },
        "id": "KqAJVmsYWNT6",
        "outputId": "50806144-7cff-471e-8e72-3ea7b46d12b9"
      },
      "execution_count": 25,
      "outputs": [
        {
          "output_type": "display_data",
          "data": {
            "text/plain": [
              "<Figure size 432x288 with 2 Axes>"
            ],
            "image/png": "[encoded data removed]"
          },
          "metadata": {
            "needs_background": "light"
          }
        }
      ]
    },
    {
      "cell_type": "code",
      "source": [
        "df['Global_active_power'].resample('Q').mean().plot(kind='bar')\n",
        "plt.xticks(rotation=60)\n",
        "plt.ylabel('Global_active_power')\n",
        "plt.title('Global_active_power per quarter (averaged over quarter)')\n",
        "plt.show()"
      ],
      "metadata": {
        "colab": {
          "base_uri": "https://localhost:8080/",
          "height": 381
        },
        "id": "6-vbFRwcWNXC",
        "outputId": "3c5ab556-6f04-49a2-826c-bbad44055123"
      },
      "execution_count": 26,
      "outputs": [
        {
          "output_type": "display_data",
          "data": {
            "text/plain": [
              "<Figure size 432x288 with 1 Axes>"
            ],
            "image/png": "[encoded data removed]"
          },
          "metadata": {
            "needs_background": "light"
          }
        }
      ]
    },
    {
      "cell_type": "code",
      "source": [
        "# Below I compare the mean of different featuresresampled over day. \n",
        "# specify columns to plot\n",
        "cols = [0, 1, 2, 3, 5, 6]\n",
        "i = 1\n",
        "values = df.resample('D').mean().values"
      ],
      "metadata": {
        "id": "PZ_uKSJaWNZl"
      },
      "execution_count": 27,
      "outputs": []
    },
    {
      "cell_type": "code",
      "source": [
        "## resampling over week and computing mean\n",
        "df.Global_reactive_power.resample('W').mean().plot(color='y', legend=True)\n",
        "df.Global_active_power.resample('W').mean().plot(color='r', legend=True)\n",
        "df.Sub_metering_1.resample('W').mean().plot(color='b', legend=True)\n",
        "df.Global_intensity.resample('W').mean().plot(color='g', legend=True)\n",
        "plt.show()"
      ],
      "metadata": {
        "colab": {
          "base_uri": "https://localhost:8080/",
          "height": 291
        },
        "id": "ONGttKmNWr0u",
        "outputId": "8cf01299-a74b-4a24-c42a-c8a4d68eca89"
      },
      "execution_count": 28,
      "outputs": [
        {
          "output_type": "display_data",
          "data": {
            "text/plain": [
              "<Figure size 432x288 with 1 Axes>"
            ],
            "image/png": "[encoded data removed]"
          },
          "metadata": {
            "needs_background": "light"
          }
        }
      ]
    },
    {
      "cell_type": "code",
      "source": [
        "# Correlations among columns\n",
        "plt.matshow(df.corr(method='spearman'),vmax=1,vmin=-1,cmap='PRGn')\n",
        "plt.title('without resampling', size=15)\n",
        "plt.colorbar()\n",
        "plt.show()"
      ],
      "metadata": {
        "colab": {
          "base_uri": "https://localhost:8080/",
          "height": 265
        },
        "id": "gWcvU1AhWr3R",
        "outputId": "f98d8ec2-ef48-4da4-ed3a-3cff751223fa"
      },
      "execution_count": 29,
      "outputs": [
        {
          "output_type": "display_data",
          "data": {
            "text/plain": [
              "<Figure size 288x288 with 2 Axes>"
            ],
            "image/png": "[encoded data removed]"
          },
          "metadata": {
            "needs_background": "light"
          }
        }
      ]
    },
    {
      "cell_type": "code",
      "source": [
        "# Correlations of mean of features resampled over months\n",
        "\n",
        "\n",
        "plt.matshow(df.resample('M').mean().corr(method='spearman'),vmax=1,vmin=-1,cmap='PRGn')\n",
        "plt.title('resampled over month', size=15)\n",
        "plt.colorbar()\n",
        "plt.margins(0.02)\n",
        "plt.matshow(df.resample('A').mean().corr(method='spearman'),vmax=1,vmin=-1,cmap='PRGn')\n",
        "plt.title('resampled over year', size=15)\n",
        "plt.colorbar()\n",
        "plt.show()"
      ],
      "metadata": {
        "colab": {
          "base_uri": "https://localhost:8080/",
          "height": 513
        },
        "id": "oRPU78f9Wr7K",
        "outputId": "3ba0b4b8-c065-47af-d08f-1bc22b839b89"
      },
      "execution_count": 30,
      "outputs": [
        {
          "output_type": "display_data",
          "data": {
            "text/plain": [
              "<Figure size 288x288 with 2 Axes>"
            ],
            "image/png": "[encoded data removed]"
          },
          "metadata": {
            "needs_background": "light"
          }
        },
        {
          "output_type": "display_data",
          "data": {
            "text/plain": [
              "<Figure size 288x288 with 2 Axes>"
            ],
            "image/png": "[encoded data removed]"
          },
          "metadata": {
            "needs_background": "light"
          }
        }
      ]
    },
    {
      "cell_type": "code",
      "source": [
        "def series_to_supervised(data, n_in=1, n_out=1, dropnan=True):\n",
        "\tn_vars = 1 if type(data) is list else data.shape[1]\n",
        "\tdff = pd.DataFrame(data)\n",
        "\tcols, names = list(), list()\n",
        "\t# input sequence (t-n, ... t-1)\n",
        "\tfor i in range(n_in, 0, -1):\n",
        "\t\tcols.append(dff.shift(i))\n",
        "\t\tnames += [('var%d(t-%d)' % (j+1, i)) for j in range(n_vars)]\n",
        "\t# forecast sequence (t, t+1, ... t+n)\n",
        "\tfor i in range(0, n_out):\n",
        "\t\tcols.append(dff.shift(-i))\n",
        "\t\tif i == 0:\n",
        "\t\t\tnames += [('var%d(t)' % (j+1)) for j in range(n_vars)]\n",
        "\t\telse:\n",
        "\t\t\tnames += [('var%d(t+%d)' % (j+1, i)) for j in range(n_vars)]\n",
        "\t# put it all together\n",
        "\tagg = pd.concat(cols, axis=1)\n",
        "\tagg.columns = names\n",
        "\t# drop rows with NaN values\n",
        "\tif dropnan:\n",
        "\t\tagg.dropna(inplace=True)\n",
        "\treturn agg\n"
      ],
      "metadata": {
        "id": "QNT-eqwEWr-L"
      },
      "execution_count": 31,
      "outputs": []
    },
    {
      "cell_type": "code",
      "source": [
        "## resampling of data over hour\n",
        "df_resample = df.resample('h').mean() \n",
        "df_resample.shape\n"
      ],
      "metadata": {
        "colab": {
          "base_uri": "https://localhost:8080/"
        },
        "id": "FFbAE3NJWsKx",
        "outputId": "a161a8e1-e02a-4066-bc91-29e1fb20917e"
      },
      "execution_count": 32,
      "outputs": [
        {
          "output_type": "execute_result",
          "data": {
            "text/plain": [
              "(34589, 7)"
            ]
          },
          "metadata": {},
          "execution_count": 32
        }
      ]
    },
    {
      "cell_type": "code",
      "source": [
        "## If you would like to train based on the resampled data (over hour), then used below\n",
        "values = df_resample.values \n"
      ],
      "metadata": {
        "id": "JMEk4M2hVlJV"
      },
      "execution_count": 33,
      "outputs": []
    },
    {
      "cell_type": "code",
      "source": [
        "# normalize features\n",
        "scaler = MinMaxScaler(feature_range=(0, 1))\n",
        "scaled = scaler.fit_transform(values)\n"
      ],
      "metadata": {
        "id": "sJ18jKDrXIci"
      },
      "execution_count": 34,
      "outputs": []
    },
    {
      "cell_type": "code",
      "source": [
        "# frame as supervised learning\n",
        "reframed = series_to_supervised(scaled, 1, 1)\n"
      ],
      "metadata": {
        "id": "pittjNtlXIfA"
      },
      "execution_count": 35,
      "outputs": []
    },
    {
      "cell_type": "code",
      "source": [
        "# drop columns we don't want to predict\n",
        "reframed.drop(reframed.columns[[8,9,10,11,12,13]], axis=1, inplace=True)\n",
        "print(reframed.head())\n"
      ],
      "metadata": {
        "colab": {
          "base_uri": "https://localhost:8080/"
        },
        "id": "NKwjIiePXIiq",
        "outputId": "517d70ea-6c1d-4f05-b060-afe2ab9d9fc8"
      },
      "execution_count": 36,
      "outputs": [
        {
          "output_type": "stream",
          "name": "stdout",
          "text": [
            "   var1(t-1)  var2(t-1)  var3(t-1)  var4(t-1)  var5(t-1)  var6(t-1)  \\\n",
            "1   0.636816   0.295738   0.337945   0.631157        0.0   0.011366   \n",
            "2   0.545045   0.103358   0.335501   0.541487        0.0   0.144652   \n",
            "3   0.509006   0.110073   0.283802   0.502152        0.0   0.030869   \n",
            "4   0.488550   0.096987   0.315987   0.481110        0.0   0.000000   \n",
            "5   0.455597   0.099010   0.434417   0.449904        0.0   0.008973   \n",
            "\n",
            "   var7(t-1)   var1(t)  \n",
            "1   0.782418  0.545045  \n",
            "2   0.782676  0.509006  \n",
            "3   0.774169  0.488550  \n",
            "4   0.778809  0.455597  \n",
            "5   0.798917  0.322555  \n"
          ]
        }
      ]
    },
    {
      "cell_type": "code",
      "source": [
        "# split into train and test sets\n",
        "values = reframed.values\n",
        "\n",
        "n_train_time = 365*24\n",
        "train = values[:n_train_time, :]\n",
        "test = values[n_train_time:, :]\n"
      ],
      "metadata": {
        "id": "2yfKj8rDXImD"
      },
      "execution_count": 37,
      "outputs": []
    },
    {
      "cell_type": "code",
      "source": [
        "# split into input and outputs\n",
        "train_X, train_y = train[:, :-1], train[:, -1]\n",
        "test_X, test_y = test[:, :-1], test[:, -1]\n"
      ],
      "metadata": {
        "id": "SilrFFaQXIpZ"
      },
      "execution_count": 38,
      "outputs": []
    },
    {
      "cell_type": "code",
      "source": [
        "# reshape input to be 3D [samples, timesteps, features]\n",
        "train_X = train_X.reshape((train_X.shape[0], 1, train_X.shape[1]))\n",
        "test_X = test_X.reshape((test_X.shape[0], 1, test_X.shape[1]))\n",
        "print(train_X.shape, train_y.shape, test_X.shape, test_y.shape) \n"
      ],
      "metadata": {
        "colab": {
          "base_uri": "https://localhost:8080/"
        },
        "id": "XJzejTG-XIr8",
        "outputId": "64fb9df7-daf8-4809-b8eb-ceb14ff7a3f1"
      },
      "execution_count": 39,
      "outputs": [
        {
          "output_type": "stream",
          "name": "stdout",
          "text": [
            "(8760, 1, 7) (8760,) (25828, 1, 7) (25828,)\n"
          ]
        }
      ]
    },
    {
      "cell_type": "code",
      "source": [
        "# We reshaped the input into the 3D format as expected by LSTMs, namely [samples, timesteps, features].\n",
        "\n",
        "model = Sequential()\n",
        "model.add(LSTM(100, input_shape=(train_X.shape[1], train_X.shape[2])))\n",
        "model.add(Dropout(0.2))\n",
        "#    model.add(LSTM(70))\n",
        "#    model.add(Dropout(0.3))\n",
        "model.add(Dense(1))\n",
        "model.compile(loss='mean_squared_error', optimizer='adam')\n"
      ],
      "metadata": {
        "id": "BfpkdWpvXq4i"
      },
      "execution_count": 40,
      "outputs": []
    },
    {
      "cell_type": "code",
      "source": [
        "# fit network\n",
        "history = model.fit(train_X, train_y, epochs=20, batch_size=70, validation_data=(test_X, test_y), verbose=2, shuffle=False)\n"
      ],
      "metadata": {
        "colab": {
          "base_uri": "https://localhost:8080/"
        },
        "id": "2aVbI-6xXq7G",
        "outputId": "c4f37978-6964-4190-87d2-3ebc1ce28e2e"
      },
      "execution_count": 41,
      "outputs": [
        {
          "output_type": "stream",
          "name": "stdout",
          "text": [
            "Epoch 1/20\n",
            "126/126 - 4s - loss: 0.0208 - val_loss: 0.0120 - 4s/epoch - 31ms/step\n",
            "Epoch 2/20\n",
            "126/126 - 1s - loss: 0.0129 - val_loss: 0.0107 - 1s/epoch - 9ms/step\n",
            "Epoch 3/20\n",
            "126/126 - 1s - loss: 0.0116 - val_loss: 0.0099 - 1s/epoch - 8ms/step\n",
            "Epoch 4/20\n",
            "126/126 - 1s - loss: 0.0110 - val_loss: 0.0094 - 989ms/epoch - 8ms/step\n",
            "Epoch 5/20\n",
            "126/126 - 1s - loss: 0.0107 - val_loss: 0.0093 - 981ms/epoch - 8ms/step\n",
            "Epoch 6/20\n",
            "126/126 - 1s - loss: 0.0107 - val_loss: 0.0092 - 1s/epoch - 8ms/step\n",
            "Epoch 7/20\n",
            "126/126 - 1s - loss: 0.0106 - val_loss: 0.0091 - 992ms/epoch - 8ms/step\n",
            "Epoch 8/20\n",
            "126/126 - 1s - loss: 0.0106 - val_loss: 0.0093 - 1s/epoch - 8ms/step\n",
            "Epoch 9/20\n",
            "126/126 - 1s - loss: 0.0105 - val_loss: 0.0093 - 976ms/epoch - 8ms/step\n",
            "Epoch 10/20\n",
            "126/126 - 1s - loss: 0.0105 - val_loss: 0.0092 - 1s/epoch - 8ms/step\n",
            "Epoch 11/20\n",
            "126/126 - 1s - loss: 0.0105 - val_loss: 0.0092 - 1s/epoch - 8ms/step\n",
            "Epoch 12/20\n",
            "126/126 - 1s - loss: 0.0105 - val_loss: 0.0092 - 1s/epoch - 8ms/step\n",
            "Epoch 13/20\n",
            "126/126 - 1s - loss: 0.0104 - val_loss: 0.0092 - 1s/epoch - 8ms/step\n",
            "Epoch 14/20\n",
            "126/126 - 1s - loss: 0.0104 - val_loss: 0.0093 - 973ms/epoch - 8ms/step\n",
            "Epoch 15/20\n",
            "126/126 - 1s - loss: 0.0104 - val_loss: 0.0092 - 969ms/epoch - 8ms/step\n",
            "Epoch 16/20\n",
            "126/126 - 1s - loss: 0.0104 - val_loss: 0.0092 - 1s/epoch - 8ms/step\n",
            "Epoch 17/20\n",
            "126/126 - 1s - loss: 0.0104 - val_loss: 0.0093 - 1s/epoch - 8ms/step\n",
            "Epoch 18/20\n",
            "126/126 - 1s - loss: 0.0104 - val_loss: 0.0092 - 1s/epoch - 8ms/step\n",
            "Epoch 19/20\n",
            "126/126 - 1s - loss: 0.0103 - val_loss: 0.0093 - 982ms/epoch - 8ms/step\n",
            "Epoch 20/20\n",
            "126/126 - 1s - loss: 0.0104 - val_loss: 0.0092 - 975ms/epoch - 8ms/step\n"
          ]
        }
      ]
    },
    {
      "cell_type": "code",
      "source": [
        "# summarize history for loss\n",
        "plt.plot(history.history['loss'])\n",
        "plt.plot(history.history['val_loss'])\n",
        "plt.title('model loss')\n",
        "plt.ylabel('loss')\n",
        "plt.xlabel('epoch')\n",
        "plt.legend(['train', 'test'], loc='upper right')\n",
        "plt.show()\n"
      ],
      "metadata": {
        "colab": {
          "base_uri": "https://localhost:8080/",
          "height": 295
        },
        "id": "bg6Mgql4Xq-6",
        "outputId": "78770011-f31d-472e-afcc-9f584d9945b7"
      },
      "execution_count": 42,
      "outputs": [
        {
          "output_type": "display_data",
          "data": {
            "text/plain": [
              "<Figure size 432x288 with 1 Axes>"
            ],
            "image/png": "[encoded data removed]"
          },
          "metadata": {
            "needs_background": "light"
          }
        }
      ]
    },
    {
      "cell_type": "code",
      "source": [
        "# make a prediction\n",
        "yhat = model.predict(test_X)\n",
        "test_X = test_X.reshape((test_X.shape[0], 7))\n",
        "# invert scaling for forecast\n",
        "inv_yhat = np.concatenate((yhat, test_X[:, -6:]), axis=1)\n",
        "inv_yhat = scaler.inverse_transform(inv_yhat)\n",
        "inv_yhat = inv_yhat[:,0]\n",
        "# invert scaling for actual\n",
        "test_y = test_y.reshape((len(test_y), 1))\n",
        "inv_y = np.concatenate((test_y, test_X[:, -6:]), axis=1)\n",
        "inv_y = scaler.inverse_transform(inv_y)\n",
        "inv_y = inv_y[:,0]\n"
      ],
      "metadata": {
        "id": "y9-VnbK6XrBv"
      },
      "execution_count": 43,
      "outputs": []
    },
    {
      "cell_type": "code",
      "source": [
        "# calculate RMSE\n",
        "rmse = np.sqrt(mean_squared_error(inv_y, inv_yhat))\n",
        "print('Test RMSE: %.3f' % rmse)\n"
      ],
      "metadata": {
        "colab": {
          "base_uri": "https://localhost:8080/"
        },
        "id": "hYEpS6uGXrEx",
        "outputId": "0f9146b2-e307-4e29-af28-94dc555d828b"
      },
      "execution_count": 44,
      "outputs": [
        {
          "output_type": "stream",
          "name": "stdout",
          "text": [
            "Test RMSE: 0.616\n"
          ]
        }
      ]
    },
    {
      "cell_type": "code",
      "source": [
        ""
      ],
      "metadata": {
        "id": "iS60_oGDXrHE"
      },
      "execution_count": 44,
      "outputs": []
    },
    {
      "cell_type": "code",
      "source": [
        ""
      ],
      "metadata": {
        "id": "P5mM2hGSXIvo"
      },
      "execution_count": 44,
      "outputs": []
    }
  ]
}